{
 "cells": [
  {
   "cell_type": "markdown",
   "metadata": {},
   "source": [
    "<center><font color='steelblue'> <font size = \"5,5\">CORPORACIÓN UNIVERSITARIA MINUTO DE DIOS </font></center><br>\n",
    "<center><font color='steelblue'> <font size = \"5\">FACULTAD DE INGENIERÍA</font></center><br>\n",
    "<center><font color='steelblue'> <font size = \"4\">PROGRAMA INGENIERÍA DE SISTEMAS</font></center><br>\n",
    "<center><font color='steelblue'> <font size = \"3\">CURSO BASES DE DATOS MASIVAS</font></center><br>\n",
    "<center><font color=\"yellow\" size = \"4\" face = \"small fonts\">Talle PYTHON</font></center>"
   ]
  },
  {
   "cell_type": "markdown",
   "metadata": {},
   "source": [
    "<center><font color=\"olive\" size = \"4\" face = \"small fonts\">DATOS DE LOS PARTICIPANTES DEL GRUPO</font></center>"
   ]
  },
  {
   "cell_type": "markdown",
   "metadata": {},
   "source": [
    "<font color=\"yellow\" size = \"4\" face = \"small fonts\">NRC: </font></center><br>\n",
    "<font color=\"yellow\" size = \"4\" face = \"small fonts\">Nombre: </font></center><br>\n",
    "<font color=\"yellow\" size = \"4\" face = \"small fonts\">ID: </font></center><br>"
   ]
  },
  {
   "cell_type": "markdown",
   "metadata": {},
   "source": [
    "<font color=\"yellow\" size = \"4\" face = \"small fonts\">El taller retoma algunas de las instrucciones utilizadas a través del curso de Bases de Datos Masivas, tener en cuenta seguir los pasos requeridos.</font></center><br>"
   ]
  },
  {
   "cell_type": "markdown",
   "metadata": {},
   "source": [
    "<font color=\"yellow\" size = \"4\" face = \"small fonts\">Al Cargar los archivos dispuestos en la carpeta TERCERPARCIAL se debe utilizar sentencias que no fijen el path, este debe se dinámico en caso de que se creen nuevos paquetes</font></center><br>\n",
    ". "
   ]
  },
  {
   "cell_type": "markdown",
   "metadata": {},
   "source": [
    "<font color=\"red\" size = \"4\" face = \"small fonts\">El ejercicio consta de seguir el cuaderno y  realizar las tareas solicitadas, Utilizar y citar la documentación propia de cada una de las herramientas utilizadas para realizar el tratamiento a la data.</font></center><br>\n"
   ]
  },
  {
   "cell_type": "markdown",
   "metadata": {},
   "source": [
    "<font color=\"red\" size = \"4\" face = \"small fonts\">Calificación del siguiente bloque 1/5</font></center><br>"
   ]
  },
  {
   "cell_type": "markdown",
   "metadata": {},
   "source": [
    "<font color=\"yellow\" size = \"4\" face = \"small fonts\">1. Configuración e importe de las librerias de pandas y propias.</font></center><br>"
   ]
  },
  {
   "cell_type": "code",
   "execution_count": 1,
   "metadata": {},
   "outputs": [
    {
     "name": "stdout",
     "output_type": "stream",
     "text": [
      "Requirement already satisfied: pandas in c:\\users\\paezm\\appdata\\local\\programs\\python\\python313\\lib\\site-packages (2.2.3)\n",
      "Requirement already satisfied: numpy>=1.26.0 in c:\\users\\paezm\\appdata\\local\\programs\\python\\python313\\lib\\site-packages (from pandas) (2.2.3)\n",
      "Requirement already satisfied: python-dateutil>=2.8.2 in c:\\users\\paezm\\appdata\\local\\programs\\python\\python313\\lib\\site-packages (from pandas) (2.9.0.post0)\n",
      "Requirement already satisfied: pytz>=2020.1 in c:\\users\\paezm\\appdata\\local\\programs\\python\\python313\\lib\\site-packages (from pandas) (2025.2)\n",
      "Requirement already satisfied: tzdata>=2022.7 in c:\\users\\paezm\\appdata\\local\\programs\\python\\python313\\lib\\site-packages (from pandas) (2025.2)\n",
      "Requirement already satisfied: six>=1.5 in c:\\users\\paezm\\appdata\\local\\programs\\python\\python313\\lib\\site-packages (from python-dateutil>=2.8.2->pandas) (1.17.0)\n",
      "Note: you may need to restart the kernel to use updated packages.\n"
     ]
    },
    {
     "name": "stderr",
     "output_type": "stream",
     "text": [
      "\n",
      "[notice] A new release of pip is available: 25.1.1 -> 25.2\n",
      "[notice] To update, run: python.exe -m pip install --upgrade pip\n"
     ]
    },
    {
     "name": "stdout",
     "output_type": "stream",
     "text": [
      "Collecting path\n",
      "  Downloading path-17.1.1-py3-none-any.whl.metadata (6.5 kB)\n",
      "Downloading path-17.1.1-py3-none-any.whl (23 kB)\n",
      "Installing collected packages: path\n",
      "Successfully installed path-17.1.1\n",
      "Note: you may need to restart the kernel to use updated packages.\n"
     ]
    },
    {
     "name": "stderr",
     "output_type": "stream",
     "text": [
      "\n",
      "[notice] A new release of pip is available: 25.1.1 -> 25.2\n",
      "[notice] To update, run: python.exe -m pip install --upgrade pip\n"
     ]
    }
   ],
   "source": [
    "#Utilizar las buenas practicas de python\n",
    "%pip install pandas\n",
    "%pip install path"
   ]
  },
  {
   "cell_type": "code",
   "execution_count": 99,
   "metadata": {},
   "outputs": [
    {
     "name": "stdout",
     "output_type": "stream",
     "text": [
      "✅ Funciones cargadas correctamente\n"
     ]
    }
   ],
   "source": [
    "#importaciones\n",
    "import sys\n",
    "from pathlib import Path\n",
    "import importlib\n",
    "\n",
    "# Configurar rutas base\n",
    "BASE_DIR = Path.cwd().parent  \n",
    "sys.path.insert(0, str(BASE_DIR))\n",
    "\n",
    "# Importar y recargar funciones personalizadas\n",
    "import functions.misfunciones as misfunciones\n",
    "importlib.reload(misfunciones)  # Esto recarga el módulo\n",
    "\n",
    "print(f\"✅ Funciones cargadas correctamente\")"
   ]
  },
  {
   "cell_type": "markdown",
   "metadata": {},
   "source": [
    "<font color=\"yellow\" size = \"4\" face = \"small fonts\">2. Leer un archivo.CSV e imprimirlo desde la carpeta data</font></center><br>"
   ]
  },
  {
   "cell_type": "code",
   "execution_count": 100,
   "metadata": {},
   "outputs": [
    {
     "name": "stdout",
     "output_type": "stream",
     "text": [
      "✅ Archivo data.csv cargado exitosamente con codificación latin-1\n",
      "📊 Dimensiones: 541909 filas x 8 columnas\n",
      "Primeras  filas\n"
     ]
    },
    {
     "data": {
      "text/html": [
       "<div>\n",
       "<style scoped>\n",
       "    .dataframe tbody tr th:only-of-type {\n",
       "        vertical-align: middle;\n",
       "    }\n",
       "\n",
       "    .dataframe tbody tr th {\n",
       "        vertical-align: top;\n",
       "    }\n",
       "\n",
       "    .dataframe thead th {\n",
       "        text-align: right;\n",
       "    }\n",
       "</style>\n",
       "<table border=\"1\" class=\"dataframe\">\n",
       "  <thead>\n",
       "    <tr style=\"text-align: right;\">\n",
       "      <th></th>\n",
       "      <th>InvoiceNo</th>\n",
       "      <th>StockCode</th>\n",
       "      <th>Description</th>\n",
       "      <th>Quantity</th>\n",
       "      <th>InvoiceDate</th>\n",
       "      <th>UnitPrice</th>\n",
       "      <th>CustomerID</th>\n",
       "      <th>Country</th>\n",
       "    </tr>\n",
       "  </thead>\n",
       "  <tbody>\n",
       "    <tr>\n",
       "      <th>0</th>\n",
       "      <td>536365</td>\n",
       "      <td>85123A</td>\n",
       "      <td>WHITE HANGING HEART T-LIGHT HOLDER</td>\n",
       "      <td>6</td>\n",
       "      <td>12/1/2010 8:26</td>\n",
       "      <td>2.55</td>\n",
       "      <td>17850.0</td>\n",
       "      <td>United Kingdom</td>\n",
       "    </tr>\n",
       "    <tr>\n",
       "      <th>1</th>\n",
       "      <td>536365</td>\n",
       "      <td>71053</td>\n",
       "      <td>WHITE METAL LANTERN</td>\n",
       "      <td>6</td>\n",
       "      <td>12/1/2010 8:26</td>\n",
       "      <td>3.39</td>\n",
       "      <td>17850.0</td>\n",
       "      <td>United Kingdom</td>\n",
       "    </tr>\n",
       "    <tr>\n",
       "      <th>2</th>\n",
       "      <td>536365</td>\n",
       "      <td>84406B</td>\n",
       "      <td>CREAM CUPID HEARTS COAT HANGER</td>\n",
       "      <td>8</td>\n",
       "      <td>12/1/2010 8:26</td>\n",
       "      <td>2.75</td>\n",
       "      <td>17850.0</td>\n",
       "      <td>United Kingdom</td>\n",
       "    </tr>\n",
       "    <tr>\n",
       "      <th>3</th>\n",
       "      <td>536365</td>\n",
       "      <td>84029G</td>\n",
       "      <td>KNITTED UNION FLAG HOT WATER BOTTLE</td>\n",
       "      <td>6</td>\n",
       "      <td>12/1/2010 8:26</td>\n",
       "      <td>3.39</td>\n",
       "      <td>17850.0</td>\n",
       "      <td>United Kingdom</td>\n",
       "    </tr>\n",
       "    <tr>\n",
       "      <th>4</th>\n",
       "      <td>536365</td>\n",
       "      <td>84029E</td>\n",
       "      <td>RED WOOLLY HOTTIE WHITE HEART.</td>\n",
       "      <td>6</td>\n",
       "      <td>12/1/2010 8:26</td>\n",
       "      <td>3.39</td>\n",
       "      <td>17850.0</td>\n",
       "      <td>United Kingdom</td>\n",
       "    </tr>\n",
       "    <tr>\n",
       "      <th>...</th>\n",
       "      <td>...</td>\n",
       "      <td>...</td>\n",
       "      <td>...</td>\n",
       "      <td>...</td>\n",
       "      <td>...</td>\n",
       "      <td>...</td>\n",
       "      <td>...</td>\n",
       "      <td>...</td>\n",
       "    </tr>\n",
       "    <tr>\n",
       "      <th>541904</th>\n",
       "      <td>581587</td>\n",
       "      <td>22613</td>\n",
       "      <td>PACK OF 20 SPACEBOY NAPKINS</td>\n",
       "      <td>12</td>\n",
       "      <td>12/9/2011 12:50</td>\n",
       "      <td>0.85</td>\n",
       "      <td>12680.0</td>\n",
       "      <td>France</td>\n",
       "    </tr>\n",
       "    <tr>\n",
       "      <th>541905</th>\n",
       "      <td>581587</td>\n",
       "      <td>22899</td>\n",
       "      <td>CHILDREN'S APRON DOLLY GIRL</td>\n",
       "      <td>6</td>\n",
       "      <td>12/9/2011 12:50</td>\n",
       "      <td>2.10</td>\n",
       "      <td>12680.0</td>\n",
       "      <td>France</td>\n",
       "    </tr>\n",
       "    <tr>\n",
       "      <th>541906</th>\n",
       "      <td>581587</td>\n",
       "      <td>23254</td>\n",
       "      <td>CHILDRENS CUTLERY DOLLY GIRL</td>\n",
       "      <td>4</td>\n",
       "      <td>12/9/2011 12:50</td>\n",
       "      <td>4.15</td>\n",
       "      <td>12680.0</td>\n",
       "      <td>France</td>\n",
       "    </tr>\n",
       "    <tr>\n",
       "      <th>541907</th>\n",
       "      <td>581587</td>\n",
       "      <td>23255</td>\n",
       "      <td>CHILDRENS CUTLERY CIRCUS PARADE</td>\n",
       "      <td>4</td>\n",
       "      <td>12/9/2011 12:50</td>\n",
       "      <td>4.15</td>\n",
       "      <td>12680.0</td>\n",
       "      <td>France</td>\n",
       "    </tr>\n",
       "    <tr>\n",
       "      <th>541908</th>\n",
       "      <td>581587</td>\n",
       "      <td>22138</td>\n",
       "      <td>BAKING SET 9 PIECE RETROSPOT</td>\n",
       "      <td>3</td>\n",
       "      <td>12/9/2011 12:50</td>\n",
       "      <td>4.95</td>\n",
       "      <td>12680.0</td>\n",
       "      <td>France</td>\n",
       "    </tr>\n",
       "  </tbody>\n",
       "</table>\n",
       "<p>541909 rows × 8 columns</p>\n",
       "</div>"
      ],
      "text/plain": [
       "       InvoiceNo StockCode                          Description  Quantity  \\\n",
       "0         536365    85123A   WHITE HANGING HEART T-LIGHT HOLDER         6   \n",
       "1         536365     71053                  WHITE METAL LANTERN         6   \n",
       "2         536365    84406B       CREAM CUPID HEARTS COAT HANGER         8   \n",
       "3         536365    84029G  KNITTED UNION FLAG HOT WATER BOTTLE         6   \n",
       "4         536365    84029E       RED WOOLLY HOTTIE WHITE HEART.         6   \n",
       "...          ...       ...                                  ...       ...   \n",
       "541904    581587     22613          PACK OF 20 SPACEBOY NAPKINS        12   \n",
       "541905    581587     22899         CHILDREN'S APRON DOLLY GIRL          6   \n",
       "541906    581587     23254        CHILDRENS CUTLERY DOLLY GIRL          4   \n",
       "541907    581587     23255      CHILDRENS CUTLERY CIRCUS PARADE         4   \n",
       "541908    581587     22138        BAKING SET 9 PIECE RETROSPOT          3   \n",
       "\n",
       "            InvoiceDate  UnitPrice  CustomerID         Country  \n",
       "0        12/1/2010 8:26       2.55     17850.0  United Kingdom  \n",
       "1        12/1/2010 8:26       3.39     17850.0  United Kingdom  \n",
       "2        12/1/2010 8:26       2.75     17850.0  United Kingdom  \n",
       "3        12/1/2010 8:26       3.39     17850.0  United Kingdom  \n",
       "4        12/1/2010 8:26       3.39     17850.0  United Kingdom  \n",
       "...                 ...        ...         ...             ...  \n",
       "541904  12/9/2011 12:50       0.85     12680.0          France  \n",
       "541905  12/9/2011 12:50       2.10     12680.0          France  \n",
       "541906  12/9/2011 12:50       4.15     12680.0          France  \n",
       "541907  12/9/2011 12:50       4.15     12680.0          France  \n",
       "541908  12/9/2011 12:50       4.95     12680.0          France  \n",
       "\n",
       "[541909 rows x 8 columns]"
      ]
     },
     "metadata": {},
     "output_type": "display_data"
    }
   ],
   "source": [
    "#Utilizar las buenas practicas de python\n",
    "\n",
    "df_csv = misfunciones.leer_datos('data.csv')\n",
    "\n",
    "print(\"Primeras  filas\")\n",
    "display(df_csv)\n"
   ]
  },
  {
   "cell_type": "markdown",
   "metadata": {},
   "source": [
    "<font color=\"yellow\" size = \"4\" face = \"small fonts\">3. Leer un archivo.HTML que contenga data e imprimirlo desde un sitio WEB</font></center><br>"
   ]
  },
  {
   "cell_type": "code",
   "execution_count": 101,
   "metadata": {},
   "outputs": [
    {
     "name": "stdout",
     "output_type": "stream",
     "text": [
      "✅ Página HTML cargada exitosamente\n",
      "📊 Se encontraron 5 tabla(s)\n",
      "Primeras filas del HTML\n",
      "   #                                  CPU  Antutu benchmark   Geekbench\n",
      "0  1        Qualcomm Snapdragon 8 Elite 2           3817334  11767/3655\n",
      "1  2  Qualcomm Snapdragon 8 Elite (Gen 4)           3109884  10111/3211\n",
      "2  3             MediaTek Dimensity 9400+           2955837   9188/2944\n",
      "3  4              MediaTek Dimensity 9400           2729084   9033/2877\n",
      "4  5                      Xiaomi Xring O1           2587994   9433/2998\n"
     ]
    }
   ],
   "source": [
    "#Utilizar las buenas practicas de python\n",
    "url = \"https://unite4buy.com/es/cpu/mobile-processors-ranking/\"\n",
    "\n",
    "df_html = misfunciones.leer_html(url)\n",
    "\n",
    "print(\"Primeras filas del HTML\")\n",
    "print(df_html)"
   ]
  },
  {
   "cell_type": "markdown",
   "metadata": {},
   "source": [
    "<font color=\"yellow\" size = \"4\" face = \"small fonts\">4. Leer un archivo.XLSX que contenga data e imprimirlo desde el modulo /data</font></center><br>"
   ]
  },
  {
   "cell_type": "code",
   "execution_count": 90,
   "metadata": {},
   "outputs": [
    {
     "name": "stdout",
     "output_type": "stream",
     "text": [
      "✅ Archivo Excel RELAX1.xlsx cargado exitosamente\n",
      "📊 Dimensiones: 28926 filas x 14 columnas\n",
      "Primeras filas del Excel\n"
     ]
    },
    {
     "data": {
      "text/html": [
       "<div>\n",
       "<style scoped>\n",
       "    .dataframe tbody tr th:only-of-type {\n",
       "        vertical-align: middle;\n",
       "    }\n",
       "\n",
       "    .dataframe tbody tr th {\n",
       "        vertical-align: top;\n",
       "    }\n",
       "\n",
       "    .dataframe thead th {\n",
       "        text-align: right;\n",
       "    }\n",
       "</style>\n",
       "<table border=\"1\" class=\"dataframe\">\n",
       "  <thead>\n",
       "    <tr style=\"text-align: right;\">\n",
       "      <th></th>\n",
       "      <th>Mat.gestion.stock</th>\n",
       "      <th>Material</th>\n",
       "      <th>Texto breve de material</th>\n",
       "      <th>TpMt</th>\n",
       "      <th>UMB</th>\n",
       "      <th>Mat</th>\n",
       "      <th>SM</th>\n",
       "      <th>Grupo art.</th>\n",
       "      <th>Jquía.productos</th>\n",
       "      <th>NºFb</th>\n",
       "      <th>Fabricante</th>\n",
       "      <th>Grupo artíc. ext.</th>\n",
       "      <th>Creado</th>\n",
       "      <th>Últ.mod.</th>\n",
       "    </tr>\n",
       "  </thead>\n",
       "  <tbody>\n",
       "    <tr>\n",
       "      <th>0</th>\n",
       "      <td>71000000091</td>\n",
       "      <td>91000000001</td>\n",
       "      <td>WIRE, NONELECTRICAL</td>\n",
       "      <td>HERS</td>\n",
       "      <td>M</td>\n",
       "      <td>NaN</td>\n",
       "      <td>NaN</td>\n",
       "      <td>261215</td>\n",
       "      <td>NaN</td>\n",
       "      <td>10011477</td>\n",
       "      <td>CENTELSA</td>\n",
       "      <td>NaN</td>\n",
       "      <td>2016-04-27</td>\n",
       "      <td>2022-10-03</td>\n",
       "    </tr>\n",
       "    <tr>\n",
       "      <th>1</th>\n",
       "      <td>71000000091</td>\n",
       "      <td>91000000002</td>\n",
       "      <td>WIRE, NONELECTRICAL</td>\n",
       "      <td>HERS</td>\n",
       "      <td>M</td>\n",
       "      <td>NaN</td>\n",
       "      <td>NaN</td>\n",
       "      <td>261215</td>\n",
       "      <td>NaN</td>\n",
       "      <td>200303</td>\n",
       "      <td>CENTELSA</td>\n",
       "      <td>NaN</td>\n",
       "      <td>2016-04-27</td>\n",
       "      <td>2022-10-03</td>\n",
       "    </tr>\n",
       "    <tr>\n",
       "      <th>2</th>\n",
       "      <td>71000000091</td>\n",
       "      <td>91000000003</td>\n",
       "      <td>WIRE, NONELECTRICAL</td>\n",
       "      <td>HERS</td>\n",
       "      <td>M</td>\n",
       "      <td>X</td>\n",
       "      <td>NaN</td>\n",
       "      <td>261215</td>\n",
       "      <td>NaN</td>\n",
       "      <td>200354</td>\n",
       "      <td>CENTELSA</td>\n",
       "      <td>NaN</td>\n",
       "      <td>2016-04-27</td>\n",
       "      <td>2022-10-03</td>\n",
       "    </tr>\n",
       "    <tr>\n",
       "      <th>3</th>\n",
       "      <td>71000000125</td>\n",
       "      <td>91000000004</td>\n",
       "      <td>WIRE, NONELECTRICAL</td>\n",
       "      <td>HERS</td>\n",
       "      <td>M</td>\n",
       "      <td>NaN</td>\n",
       "      <td>NaN</td>\n",
       "      <td>261215</td>\n",
       "      <td>NaN</td>\n",
       "      <td>2051016R - NEGRO</td>\n",
       "      <td>CENTELSA</td>\n",
       "      <td>NaN</td>\n",
       "      <td>2016-04-27</td>\n",
       "      <td>2022-10-03</td>\n",
       "    </tr>\n",
       "    <tr>\n",
       "      <th>4</th>\n",
       "      <td>71000000158</td>\n",
       "      <td>91000252927</td>\n",
       "      <td>CABLE ASSEMBLY, POWER, ELECTRICAL</td>\n",
       "      <td>HERS</td>\n",
       "      <td>M</td>\n",
       "      <td>NaN</td>\n",
       "      <td>NaN</td>\n",
       "      <td>261216</td>\n",
       "      <td>NaN</td>\n",
       "      <td>C THHN/THWN 90°C CU 2 AWG 600</td>\n",
       "      <td>CENTELSA</td>\n",
       "      <td>NaN</td>\n",
       "      <td>2016-04-27</td>\n",
       "      <td>2022-10-03</td>\n",
       "    </tr>\n",
       "    <tr>\n",
       "      <th>...</th>\n",
       "      <td>...</td>\n",
       "      <td>...</td>\n",
       "      <td>...</td>\n",
       "      <td>...</td>\n",
       "      <td>...</td>\n",
       "      <td>...</td>\n",
       "      <td>...</td>\n",
       "      <td>...</td>\n",
       "      <td>...</td>\n",
       "      <td>...</td>\n",
       "      <td>...</td>\n",
       "      <td>...</td>\n",
       "      <td>...</td>\n",
       "      <td>...</td>\n",
       "    </tr>\n",
       "    <tr>\n",
       "      <th>28921</th>\n",
       "      <td>71001014620</td>\n",
       "      <td>91000035278</td>\n",
       "      <td>LEVER-VALVE</td>\n",
       "      <td>HERS</td>\n",
       "      <td>ST</td>\n",
       "      <td>NaN</td>\n",
       "      <td>NaN</td>\n",
       "      <td>261017</td>\n",
       "      <td>NaN</td>\n",
       "      <td>W 190342-001</td>\n",
       "      <td>TURBODYN</td>\n",
       "      <td>NaN</td>\n",
       "      <td>2016-04-27</td>\n",
       "      <td>NaT</td>\n",
       "    </tr>\n",
       "    <tr>\n",
       "      <th>28922</th>\n",
       "      <td>71001014638</td>\n",
       "      <td>91000035279</td>\n",
       "      <td>LEVER-VALVE</td>\n",
       "      <td>HERS</td>\n",
       "      <td>ST</td>\n",
       "      <td>NaN</td>\n",
       "      <td>NaN</td>\n",
       "      <td>261017</td>\n",
       "      <td>NaN</td>\n",
       "      <td>W 160470-001</td>\n",
       "      <td>TURBODYN</td>\n",
       "      <td>NaN</td>\n",
       "      <td>2016-04-27</td>\n",
       "      <td>NaT</td>\n",
       "    </tr>\n",
       "    <tr>\n",
       "      <th>28923</th>\n",
       "      <td>71001014646</td>\n",
       "      <td>91000035280</td>\n",
       "      <td>LEVER</td>\n",
       "      <td>HERS</td>\n",
       "      <td>ST</td>\n",
       "      <td>NaN</td>\n",
       "      <td>NaN</td>\n",
       "      <td>31162807</td>\n",
       "      <td>NaN</td>\n",
       "      <td>W 190488-001</td>\n",
       "      <td>TURBODYN</td>\n",
       "      <td>NaN</td>\n",
       "      <td>2016-04-27</td>\n",
       "      <td>NaT</td>\n",
       "    </tr>\n",
       "    <tr>\n",
       "      <th>28924</th>\n",
       "      <td>71001014653</td>\n",
       "      <td>91000035281</td>\n",
       "      <td>GASKET</td>\n",
       "      <td>HERS</td>\n",
       "      <td>ST</td>\n",
       "      <td>NaN</td>\n",
       "      <td>NaN</td>\n",
       "      <td>3118</td>\n",
       "      <td>NaN</td>\n",
       "      <td>188521-002</td>\n",
       "      <td>DRESSER</td>\n",
       "      <td>NaN</td>\n",
       "      <td>2016-04-27</td>\n",
       "      <td>2022-11-01</td>\n",
       "    </tr>\n",
       "    <tr>\n",
       "      <th>28925</th>\n",
       "      <td>71001014661</td>\n",
       "      <td>91000035282</td>\n",
       "      <td>BUSHING</td>\n",
       "      <td>HERS</td>\n",
       "      <td>ST</td>\n",
       "      <td>NaN</td>\n",
       "      <td>NaN</td>\n",
       "      <td>311716</td>\n",
       "      <td>NaN</td>\n",
       "      <td>W 131145-002</td>\n",
       "      <td>DRESSER</td>\n",
       "      <td>NaN</td>\n",
       "      <td>2016-04-27</td>\n",
       "      <td>NaT</td>\n",
       "    </tr>\n",
       "  </tbody>\n",
       "</table>\n",
       "<p>28926 rows × 14 columns</p>\n",
       "</div>"
      ],
      "text/plain": [
       "       Mat.gestion.stock     Material            Texto breve de material  \\\n",
       "0            71000000091  91000000001                WIRE, NONELECTRICAL   \n",
       "1            71000000091  91000000002                WIRE, NONELECTRICAL   \n",
       "2            71000000091  91000000003                WIRE, NONELECTRICAL   \n",
       "3            71000000125  91000000004                WIRE, NONELECTRICAL   \n",
       "4            71000000158  91000252927  CABLE ASSEMBLY, POWER, ELECTRICAL   \n",
       "...                  ...          ...                                ...   \n",
       "28921        71001014620  91000035278                        LEVER-VALVE   \n",
       "28922        71001014638  91000035279                        LEVER-VALVE   \n",
       "28923        71001014646  91000035280                              LEVER   \n",
       "28924        71001014653  91000035281                             GASKET   \n",
       "28925        71001014661  91000035282                            BUSHING   \n",
       "\n",
       "       TpMt UMB  Mat  SM  Grupo art.  Jquía.productos  \\\n",
       "0      HERS   M  NaN NaN      261215              NaN   \n",
       "1      HERS   M  NaN NaN      261215              NaN   \n",
       "2      HERS   M    X NaN      261215              NaN   \n",
       "3      HERS   M  NaN NaN      261215              NaN   \n",
       "4      HERS   M  NaN NaN      261216              NaN   \n",
       "...     ...  ..  ...  ..         ...              ...   \n",
       "28921  HERS  ST  NaN NaN      261017              NaN   \n",
       "28922  HERS  ST  NaN NaN      261017              NaN   \n",
       "28923  HERS  ST  NaN NaN    31162807              NaN   \n",
       "28924  HERS  ST  NaN NaN        3118              NaN   \n",
       "28925  HERS  ST  NaN NaN      311716              NaN   \n",
       "\n",
       "                                NºFb Fabricante  Grupo artíc. ext.     Creado  \\\n",
       "0                           10011477   CENTELSA                NaN 2016-04-27   \n",
       "1                             200303   CENTELSA                NaN 2016-04-27   \n",
       "2                             200354   CENTELSA                NaN 2016-04-27   \n",
       "3                   2051016R - NEGRO   CENTELSA                NaN 2016-04-27   \n",
       "4      C THHN/THWN 90°C CU 2 AWG 600   CENTELSA                NaN 2016-04-27   \n",
       "...                              ...        ...                ...        ...   \n",
       "28921                   W 190342-001   TURBODYN                NaN 2016-04-27   \n",
       "28922                   W 160470-001   TURBODYN                NaN 2016-04-27   \n",
       "28923                   W 190488-001   TURBODYN                NaN 2016-04-27   \n",
       "28924                     188521-002    DRESSER                NaN 2016-04-27   \n",
       "28925                   W 131145-002    DRESSER                NaN 2016-04-27   \n",
       "\n",
       "        Últ.mod.  \n",
       "0     2022-10-03  \n",
       "1     2022-10-03  \n",
       "2     2022-10-03  \n",
       "3     2022-10-03  \n",
       "4     2022-10-03  \n",
       "...          ...  \n",
       "28921        NaT  \n",
       "28922        NaT  \n",
       "28923        NaT  \n",
       "28924 2022-11-01  \n",
       "28925        NaT  \n",
       "\n",
       "[28926 rows x 14 columns]"
      ]
     },
     "metadata": {},
     "output_type": "display_data"
    }
   ],
   "source": [
    "#Utilizar las buenas practicas de python\n",
    "df_xlsx = misfunciones.leer_xlsx(\"RELAX1.xlsx\")\n",
    "\n",
    "print(\"Primeras filas del Excel\")\n",
    "display(df_xlsx)"
   ]
  },
  {
   "cell_type": "markdown",
   "metadata": {},
   "source": [
    "<font color=\"yellow\" size = \"4\" face = \"small fonts\">5. Leer un archivo.JSON que contenga data e imprimirlo desde el modulo /data</font></center><br>"
   ]
  },
  {
   "cell_type": "code",
   "execution_count": 92,
   "metadata": {},
   "outputs": [
    {
     "name": "stdout",
     "output_type": "stream",
     "text": [
      "✅ Archivo JSON data.json cargado desde clave 'usuarios'\n",
      "📊 Dimensiones: 3 filas x 6 columnas\n",
      "Primeras filas del JSON:\n"
     ]
    },
    {
     "data": {
      "text/html": [
       "<div>\n",
       "<style scoped>\n",
       "    .dataframe tbody tr th:only-of-type {\n",
       "        vertical-align: middle;\n",
       "    }\n",
       "\n",
       "    .dataframe tbody tr th {\n",
       "        vertical-align: top;\n",
       "    }\n",
       "\n",
       "    .dataframe thead th {\n",
       "        text-align: right;\n",
       "    }\n",
       "</style>\n",
       "<table border=\"1\" class=\"dataframe\">\n",
       "  <thead>\n",
       "    <tr style=\"text-align: right;\">\n",
       "      <th></th>\n",
       "      <th>id</th>\n",
       "      <th>nombre</th>\n",
       "      <th>edad</th>\n",
       "      <th>email</th>\n",
       "      <th>activo</th>\n",
       "      <th>fechaRegistro</th>\n",
       "    </tr>\n",
       "  </thead>\n",
       "  <tbody>\n",
       "    <tr>\n",
       "      <th>0</th>\n",
       "      <td>1</td>\n",
       "      <td>Juan Pérez</td>\n",
       "      <td>28</td>\n",
       "      <td>juan.perez@email.com</td>\n",
       "      <td>True</td>\n",
       "      <td>2024-01-15</td>\n",
       "    </tr>\n",
       "    <tr>\n",
       "      <th>1</th>\n",
       "      <td>2</td>\n",
       "      <td>María García</td>\n",
       "      <td>34</td>\n",
       "      <td>maria.garcia@email.com</td>\n",
       "      <td>False</td>\n",
       "      <td>2024-02-20</td>\n",
       "    </tr>\n",
       "    <tr>\n",
       "      <th>2</th>\n",
       "      <td>3</td>\n",
       "      <td>Carlos López</td>\n",
       "      <td>25</td>\n",
       "      <td>carlos.lopez@email.com</td>\n",
       "      <td>True</td>\n",
       "      <td>2024-03-10</td>\n",
       "    </tr>\n",
       "  </tbody>\n",
       "</table>\n",
       "</div>"
      ],
      "text/plain": [
       "   id        nombre  edad                   email  activo fechaRegistro\n",
       "0   1    Juan Pérez    28    juan.perez@email.com    True    2024-01-15\n",
       "1   2  María García    34  maria.garcia@email.com   False    2024-02-20\n",
       "2   3  Carlos López    25  carlos.lopez@email.com    True    2024-03-10"
      ]
     },
     "metadata": {},
     "output_type": "display_data"
    }
   ],
   "source": [
    "#Utilizar las buenas practicas de python\n",
    "\n",
    "df_json = misfunciones.leer_json(\"data.json\")\n",
    "\n",
    "print(\"Primeras filas del JSON:\")\n",
    "display(df_json)"
   ]
  },
  {
   "cell_type": "markdown",
   "metadata": {},
   "source": [
    "<font color=\"yellow\" size = \"4\" face = \"small fonts\">6. Leer un archivo desde una URL de extensión CSV e imprimirlo</font></center><br>"
   ]
  },
  {
   "cell_type": "code",
   "execution_count": null,
   "metadata": {},
   "outputs": [],
   "source": [
    "#Utilizar las buenas practicas de python"
   ]
  },
  {
   "cell_type": "markdown",
   "metadata": {},
   "source": [
    "<font color=\"yellow\" size = \"4\" face = \"small fonts\">7. Para almacenar datos manualmente en una tabla, cree un DataFrame. Al utilizar un diccionario Python de listas, las claves del diccionario se utilizarán como cabeceras de columna y los valores de cada lista como columnas del DataFrame.\n",
    "\n",
    "Un DataFrame es una estructura de datos bidimensional que puede almacenar datos de diferentes tipos (incluyendo caracteres, enteros, valores de coma flotante, datos categóricos y más) en columnas. Es similar a una hoja de cálculo, una tabla SQL o el data.frame en R.\n",
    "\n",
    "Cree una tabla que tiene 3 columnas, cada una de ellas con una etiqueta. Las etiquetas de las columnas son respectivamente Nombre, Edad y Sexo.\n",
    "\n",
    "La columna Nombre consiste en datos textuales con cada valor una cadena, la columna Edad son números y la columna Sexo son datos textuales.</font></center><br>"
   ]
  },
  {
   "cell_type": "code",
   "execution_count": null,
   "metadata": {},
   "outputs": [],
   "source": [
    "#Utilizar las buenas practicas de python"
   ]
  },
  {
   "cell_type": "markdown",
   "metadata": {},
   "source": [
    "<font color=\"yellow\" size = \"4\" face = \"small fonts\">8. Solo interesa trabajar con los datos de la columna Edad, Imprima los datos de esta columna</font></center><br>\n",
    "<font color=\"yellow\" size = \"4\" face = \"small fonts\"> -  - Imprima los datos de esta columna</font></center><br>"
   ]
  },
  {
   "cell_type": "code",
   "execution_count": null,
   "metadata": {},
   "outputs": [],
   "source": []
  },
  {
   "cell_type": "markdown",
   "metadata": {},
   "source": [
    "<font color=\"yellow\" size = \"4\" face = \"small fonts\">9. Consulte que otro tipo de archivo se pueden cargar en pandas y carguelo e imprimalo-</font></center><br>"
   ]
  },
  {
   "cell_type": "code",
   "execution_count": null,
   "metadata": {},
   "outputs": [],
   "source": []
  },
  {
   "cell_type": "markdown",
   "metadata": {},
   "source": [
    "<font color=\"yellow\" size = \"4\" face = \"small fonts\">10. Consulte que otro tipo de archivo se pueden cargar en pandas y carguelo e imprimalo-</font></center><br>"
   ]
  },
  {
   "cell_type": "code",
   "execution_count": null,
   "metadata": {},
   "outputs": [],
   "source": []
  },
  {
   "cell_type": "markdown",
   "metadata": {},
   "source": [
    "<font color=\"red\" size = \"4\" face = \"small fonts\">-------------------------------------------------------------------------------</font></center><br>\n",
    "\n",
    "<font color=\"red\" size = \"4\" face = \"small fonts\">Calificación del siguinte bloque 2/5</font></center><br>\n"
   ]
  },
  {
   "cell_type": "markdown",
   "metadata": {},
   "source": [
    "<center><img src= '..//data/imageProject.png' width='200' height='400'></center>\n"
   ]
  },
  {
   "cell_type": "markdown",
   "metadata": {},
   "source": [
    "<font color=\"yellow\" size = \"4\" face = \"small fonts\">1. Integrar los datos de los archivos de Excel y generar un archivo temporal.csv que se almacene en el paquete \\data\\ Lo anterior se debe generar mediante una función escrita en Python y almacenada en la módulo functions y en un archivo.py, ejemplo /functions/myfunctions.py</font></center><br>\n",
    "\n",
    "<font color=\"Orange\" size = \"4\" face = \"small fonts\">Calificación 0,5 de 2 </font></center><br>\n"
   ]
  },
  {
   "cell_type": "code",
   "execution_count": null,
   "metadata": {},
   "outputs": [],
   "source": [
    "#Code"
   ]
  },
  {
   "cell_type": "markdown",
   "metadata": {},
   "source": [
    "<font color=\"yellow\" size = \"4\" face = \"small fonts\">2. Con el archivo temporal.csv se debe realizar la siguiente transformación, recordar que todo se debe realizar con funciones escritas en un archivo.py guardado en la carpeta \\functions e invocadas en archivo parcialBDM.ipynb</font></center><br>\n",
    "\n",
    "<font color=\"yellow\" size = \"4\" face = \"small fonts\">*   Cambiar los encabezados por: stock, material, descripcion, tipoMaterial, umb, mat, sm, grupo, jerarquia, numerofab, fabricante, extension, creado, modificado</font></center><br>\n",
    "\n",
    "<font color=\"yellow\" size = \"4\" face = \"small fonts\">*   Eliminar las columnas que no tengan ningun dato y eliminar todos los registros que no tengan fecha en la columna modificado.</font></center><br>\n",
    "\n",
    "<font color=\"Orange\" size = \"4\" face = \"small fonts\">Calificación 0,5 de 2 </font></center><br>\n"
   ]
  },
  {
   "cell_type": "code",
   "execution_count": null,
   "metadata": {},
   "outputs": [],
   "source": [
    "#Code"
   ]
  },
  {
   "cell_type": "markdown",
   "metadata": {},
   "source": [
    "<font color=\"orange\" size = \"4\" face = \"small fonts\">Tenga en cuenta que las Bases de Datos se encuentran en el contenedor del Docker (Taller anterior)</font></center><br>"
   ]
  },
  {
   "cell_type": "code",
   "execution_count": null,
   "metadata": {},
   "outputs": [],
   "source": [
    "#Escribir el script en este Markdown de creación e inicio de la BD."
   ]
  },
  {
   "cell_type": "markdown",
   "metadata": {},
   "source": [
    "<font color=\"yellow\" size = \"4\" face = \"small fonts\">3. Importar el archivo data.csv a una tabla producto de una Bases de Datos mariaDB. Todas las sentencias se deben realizar desde este cuaderno y con funciones.</font></center><br>\n",
    "\n",
    "<font color=\"yellow\" size = \"4\" face = \"small fonts\">* Crear la Bases de Datos con el nombre parcialDB y una tabla de nombre \"producto\" con las columnas material, descripcion, fabricante y modificado.</font></center><br>\n",
    "\n",
    "<font color=\"yellow\" size = \"4\" face = \"small fonts\">* Cargar los datos desde temporal.csv a la tabla \"material\"</font></center><br>\n",
    "\n",
    "\n",
    "<font color=\"Orange\" size = \"4\" face = \"small fonts\">Calificación 0,5 de 2 </font></center><br>\n",
    "\n",
    "\n",
    "\n",
    "\n"
   ]
  },
  {
   "cell_type": "code",
   "execution_count": null,
   "metadata": {},
   "outputs": [],
   "source": [
    "#Code"
   ]
  },
  {
   "cell_type": "markdown",
   "metadata": {},
   "source": [
    "\n",
    "<font color=\"yellow\" size = \"4\" face = \"small fonts\">4. Generar graficas desde los datos contenidos en la base de datos parcialDB, tabla producto. </font></center><br>\n",
    "<font color=\"Orange\" size = \"4\" face = \"small fonts\">Calificación 0,5 de 2 </font></center><br>"
   ]
  },
  {
   "cell_type": "markdown",
   "metadata": {},
   "source": [
    "<font color=\"red\" size = \"4\" face = \"small fonts\">-------------------------------------------------------------------------------</font></center><br>\n",
    "\n",
    "<font color=\"red\" size = \"4\" face = \"small fonts\">Calificación del siguinte bloque 2/5</font></center><br>\n"
   ]
  },
  {
   "cell_type": "markdown",
   "metadata": {},
   "source": [
    "<font color=\"yellow\" size = \"4\" face = \"small fonts\">1. Crear y cargar la base de datos de recursos humanos dentro del contenedor Docker, recuerde se debe realizar todas las sentencias y programación necesaria desde este cuaderno. </font></center><br>\n",
    "<font color=\"Orange\" size = \"4\" face = \"small fonts\">Calificación 1 de 2 </font></center><br>"
   ]
  },
  {
   "cell_type": "markdown",
   "metadata": {},
   "source": [
    "<font color=\"yellow\" size = \"4\" face = \"small fonts\">2. Generar la siguinte consulta de la base de datos - recursos humanos.  </font></center><br>\n",
    "<font color=\"yellow\" size = \"4\" face = \"small fonts\">- -Se desea conocer los empleados cuyo salario es superior al salario promedio de todos los empleados. </font></center><br>\n",
    "<font color=\"Orange\" size = \"4\" face = \"small fonts\">Calificación 0,5 de 2 </font></center><br>\n",
    "\n"
   ]
  },
  {
   "cell_type": "markdown",
   "metadata": {},
   "source": [
    "<center><font color=\"red\" size = \"4\" face = \"small fonts\">CUANDO TERMINE EL PRÁCTICO CREE UN ARCHIVO.ZIP DE LA CARPETA DEL PROYECTO Y CÁRGUELO AL AULA VIRTUAL.</font></center>\n",
    "\n"
   ]
  }
 ],
 "metadata": {
  "kernelspec": {
   "display_name": "Python 3",
   "language": "python",
   "name": "python3"
  },
  "language_info": {
   "codemirror_mode": {
    "name": "ipython",
    "version": 3
   },
   "file_extension": ".py",
   "mimetype": "text/x-python",
   "name": "python",
   "nbconvert_exporter": "python",
   "pygments_lexer": "ipython3",
   "version": "3.13.5"
  }
 },
 "nbformat": 4,
 "nbformat_minor": 2
}
